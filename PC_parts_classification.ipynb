{
  "nbformat": 4,
  "nbformat_minor": 0,
  "metadata": {
    "colab": {
      "provenance": [],
      "authorship_tag": "ABX9TyOEeiESfX+/QUY4GTWiGk3S",
      "include_colab_link": true
    },
    "kernelspec": {
      "name": "python3",
      "display_name": "Python 3"
    },
    "language_info": {
      "name": "python"
    }
  },
  "cells": [
    {
      "cell_type": "markdown",
      "metadata": {
        "id": "view-in-github",
        "colab_type": "text"
      },
      "source": [
        "<a href=\"https://colab.research.google.com/github/SameerShafayet/Pytorch/blob/main/PC_parts_classification.ipynb\" target=\"_parent\"><img src=\"https://colab.research.google.com/assets/colab-badge.svg\" alt=\"Open In Colab\"/></a>"
      ]
    },
    {
      "cell_type": "code",
      "execution_count": null,
      "metadata": {
        "id": "XIOPhbrpZsAJ"
      },
      "outputs": [],
      "source": [
        "import torch\n",
        "import torchvision\n",
        "import torchvision.transforms as transforms\n",
        "from fastai import *\n",
        "from fastai.vision import *\n",
        "from fastai.metrics import error_rate\n",
        "import os\n",
        "import pandas as pd\n",
        "import numpy as np\n",
        "import matplotlib.pyplot as plt\n",
        "import seaborn as sns\n",
        "import cv2"
      ]
    },
    {
      "cell_type": "code",
      "source": [
        "!pip install opendatasets\n",
        "!pip install pandas"
      ],
      "metadata": {
        "colab": {
          "base_uri": "https://localhost:8080/"
        },
        "id": "lIAAZNlqZ1M8",
        "outputId": "dc11b615-0f68-424b-abe9-0ed3a3adf35d"
      },
      "execution_count": null,
      "outputs": [
        {
          "output_type": "stream",
          "name": "stdout",
          "text": [
            "Collecting opendatasets\n",
            "  Downloading opendatasets-0.1.22-py3-none-any.whl (15 kB)\n",
            "Requirement already satisfied: tqdm in /usr/local/lib/python3.10/dist-packages (from opendatasets) (4.66.2)\n",
            "Requirement already satisfied: kaggle in /usr/local/lib/python3.10/dist-packages (from opendatasets) (1.5.16)\n",
            "Requirement already satisfied: click in /usr/local/lib/python3.10/dist-packages (from opendatasets) (8.1.7)\n",
            "Requirement already satisfied: six>=1.10 in /usr/local/lib/python3.10/dist-packages (from kaggle->opendatasets) (1.16.0)\n",
            "Requirement already satisfied: certifi in /usr/local/lib/python3.10/dist-packages (from kaggle->opendatasets) (2024.2.2)\n",
            "Requirement already satisfied: python-dateutil in /usr/local/lib/python3.10/dist-packages (from kaggle->opendatasets) (2.8.2)\n",
            "Requirement already satisfied: requests in /usr/local/lib/python3.10/dist-packages (from kaggle->opendatasets) (2.31.0)\n",
            "Requirement already satisfied: python-slugify in /usr/local/lib/python3.10/dist-packages (from kaggle->opendatasets) (8.0.4)\n",
            "Requirement already satisfied: urllib3 in /usr/local/lib/python3.10/dist-packages (from kaggle->opendatasets) (2.0.7)\n",
            "Requirement already satisfied: bleach in /usr/local/lib/python3.10/dist-packages (from kaggle->opendatasets) (6.1.0)\n",
            "Requirement already satisfied: webencodings in /usr/local/lib/python3.10/dist-packages (from bleach->kaggle->opendatasets) (0.5.1)\n",
            "Requirement already satisfied: text-unidecode>=1.3 in /usr/local/lib/python3.10/dist-packages (from python-slugify->kaggle->opendatasets) (1.3)\n",
            "Requirement already satisfied: charset-normalizer<4,>=2 in /usr/local/lib/python3.10/dist-packages (from requests->kaggle->opendatasets) (3.3.2)\n",
            "Requirement already satisfied: idna<4,>=2.5 in /usr/local/lib/python3.10/dist-packages (from requests->kaggle->opendatasets) (3.6)\n",
            "Installing collected packages: opendatasets\n",
            "Successfully installed opendatasets-0.1.22\n",
            "Requirement already satisfied: pandas in /usr/local/lib/python3.10/dist-packages (1.5.3)\n",
            "Requirement already satisfied: python-dateutil>=2.8.1 in /usr/local/lib/python3.10/dist-packages (from pandas) (2.8.2)\n",
            "Requirement already satisfied: pytz>=2020.1 in /usr/local/lib/python3.10/dist-packages (from pandas) (2023.4)\n",
            "Requirement already satisfied: numpy>=1.21.0 in /usr/local/lib/python3.10/dist-packages (from pandas) (1.25.2)\n",
            "Requirement already satisfied: six>=1.5 in /usr/local/lib/python3.10/dist-packages (from python-dateutil>=2.8.1->pandas) (1.16.0)\n"
          ]
        }
      ]
    },
    {
      "cell_type": "code",
      "source": [
        "import opendatasets as od\n",
        "import pandas"
      ],
      "metadata": {
        "id": "jmiOUMSQcFu0"
      },
      "execution_count": null,
      "outputs": []
    },
    {
      "cell_type": "code",
      "source": [
        "od.download(\"https://www.kaggle.com/datasets/asaniczka/pc-parts-images-dataset-classification\")"
      ],
      "metadata": {
        "colab": {
          "base_uri": "https://localhost:8080/"
        },
        "id": "OUqrPPAkaqyy",
        "outputId": "1145972b-a48f-4354-c059-bdc219b2572d"
      },
      "execution_count": null,
      "outputs": [
        {
          "output_type": "stream",
          "name": "stdout",
          "text": [
            "Please provide your Kaggle credentials to download this dataset. Learn more: http://bit.ly/kaggle-creds\n",
            "Your Kaggle username: sameershafayetlatif\n",
            "Your Kaggle Key: ··········\n",
            "Downloading pc-parts-images-dataset-classification.zip to ./pc-parts-images-dataset-classification\n"
          ]
        },
        {
          "output_type": "stream",
          "name": "stderr",
          "text": [
            "100%|██████████| 34.0M/34.0M [00:00<00:00, 110MB/s] \n"
          ]
        },
        {
          "output_type": "stream",
          "name": "stdout",
          "text": [
            "\n"
          ]
        }
      ]
    },
    {
      "cell_type": "code",
      "source": [
        "# Path to the main dataset folder\n",
        "dataset_path = '/content/pc_parts_main/pc_parts'\n",
        "\n",
        "# Create folders for train and test sets\n",
        "train_path = '/content/pc_parts_main/pc_parts/train'\n",
        "test_path = '/content/pc_parts_main/pc_parts/test'\n",
        "\n",
        "os.makedirs(train_path, exist_ok=True)\n",
        "os.makedirs(test_path, exist_ok=True)"
      ],
      "metadata": {
        "id": "ZOswDsBncP_P"
      },
      "execution_count": null,
      "outputs": []
    },
    {
      "cell_type": "code",
      "source": [
        "import os\n",
        "import shutil\n",
        "from sklearn.model_selection import train_test_split\n",
        "import random"
      ],
      "metadata": {
        "id": "9GyqsG2nxzLO"
      },
      "execution_count": null,
      "outputs": []
    },
    {
      "cell_type": "code",
      "source": [
        "import torch\n",
        "import torch.nn as nn\n",
        "import torch.nn.functional as F\n",
        "from torch.utils.data import DataLoader\n",
        "from torchvision import datasets, transforms\n",
        "from torchvision.utils import make_grid"
      ],
      "metadata": {
        "id": "Ys7nadzo0Dtu"
      },
      "execution_count": null,
      "outputs": []
    },
    {
      "cell_type": "code",
      "source": [
        "# Move the 14 class folders to train and test folders\n",
        "for class_folder in os.listdir(dataset_path):\n",
        "    class_path = os.path.join(dataset_path, class_folder)\n",
        "\n",
        "    if os.path.isdir(class_path):\n",
        "        # Get a list of images for this class\n",
        "        images = [img for img in os.listdir(class_path) if img.endswith(\".jpg\")]\n",
        "\n",
        "        # Ensure there are enough samples for both train and test sets\n",
        "        if len(images) >= 2:\n",
        "            # Split the images into train and test sets\n",
        "            train_images, test_images = train_test_split(images, train_size=0.8, test_size=0.2, random_state=42)\n",
        "\n",
        "            # Move images to train folder\n",
        "            for img in train_images:\n",
        "                src_path = os.path.join(class_path, img)\n",
        "                dest_path = os.path.join(train_path, class_folder, img)\n",
        "                os.makedirs(os.path.join(train_path, class_folder), exist_ok=True)\n",
        "                shutil.move(src_path, dest_path)\n",
        "\n",
        "            # Move images to test folder\n",
        "            for img in test_images:\n",
        "                src_path = os.path.join(class_path, img)\n",
        "                dest_path = os.path.join(test_path, class_folder, img)\n",
        "                os.makedirs(os.path.join(test_path, class_folder), exist_ok=True)\n",
        "                shutil.move(src_path, dest_path)\n",
        "\n",
        "            # Remove the original class folder from pc_parts\n",
        "            shutil.rmtree(class_path)"
      ],
      "metadata": {
        "id": "X23AW_ZpxJzj"
      },
      "execution_count": null,
      "outputs": []
    },
    {
      "cell_type": "code",
      "source": [
        "# Define data transformations\n",
        "transform = transforms.Compose([\n",
        "    transforms.Resize((32, 32)),  # Resize images to a consistent size\n",
        "    transforms.ToTensor(),  # Convert images to PyTorch tensors\n",
        "    transforms.Normalize(mean=[0.5, 0.5, 0.5], std=[0.5, 0.5, 0.5])  # Normalize pixel values\n",
        "])"
      ],
      "metadata": {
        "id": "r8UUBYb0x96F"
      },
      "execution_count": null,
      "outputs": []
    },
    {
      "cell_type": "code",
      "source": [
        "# Create ImageFolder datasets\n",
        "train_data = datasets.ImageFolder(root=train_path, transform=transform)\n",
        "test_data = datasets.ImageFolder(root=test_path, transform=transform)"
      ],
      "metadata": {
        "id": "Wl9FKqMazC1A"
      },
      "execution_count": null,
      "outputs": []
    },
    {
      "cell_type": "code",
      "source": [
        "train_data"
      ],
      "metadata": {
        "colab": {
          "base_uri": "https://localhost:8080/"
        },
        "id": "rlwCtSre0HUC",
        "outputId": "ce69e9fb-d708-4192-a74c-b89ff8a6c563"
      },
      "execution_count": null,
      "outputs": [
        {
          "output_type": "execute_result",
          "data": {
            "text/plain": [
              "Dataset ImageFolder\n",
              "    Number of datapoints: 2616\n",
              "    Root location: /content/pc_parts_main/pc_parts/train\n",
              "    StandardTransform\n",
              "Transform: Compose(\n",
              "               Resize(size=(32, 32), interpolation=bilinear, max_size=None, antialias=warn)\n",
              "               ToTensor()\n",
              "               Normalize(mean=[0.5, 0.5, 0.5], std=[0.5, 0.5, 0.5])\n",
              "           )"
            ]
          },
          "metadata": {},
          "execution_count": 45
        }
      ]
    },
    {
      "cell_type": "code",
      "source": [
        "test_data"
      ],
      "metadata": {
        "colab": {
          "base_uri": "https://localhost:8080/"
        },
        "id": "UhL6zoXI0Kls",
        "outputId": "1c277885-ff88-4f35-86b9-aff9576a4160"
      },
      "execution_count": null,
      "outputs": [
        {
          "output_type": "execute_result",
          "data": {
            "text/plain": [
              "Dataset ImageFolder\n",
              "    Number of datapoints: 663\n",
              "    Root location: /content/pc_parts_main/pc_parts/test\n",
              "    StandardTransform\n",
              "Transform: Compose(\n",
              "               Resize(size=(32, 32), interpolation=bilinear, max_size=None, antialias=warn)\n",
              "               ToTensor()\n",
              "               Normalize(mean=[0.5, 0.5, 0.5], std=[0.5, 0.5, 0.5])\n",
              "           )"
            ]
          },
          "metadata": {},
          "execution_count": 46
        }
      ]
    },
    {
      "cell_type": "code",
      "source": [
        "# Creating a small batch size for images - lets say 10\n",
        "train_loader = DataLoader(train_data, batch_size=10, shuffle=True)\n",
        "test_loader = DataLoader(test_data, batch_size=10, shuffle=False)"
      ],
      "metadata": {
        "id": "6ZRtdqxb0UfA"
      },
      "execution_count": null,
      "outputs": []
    },
    {
      "cell_type": "code",
      "source": [
        "# nn.Conv2d(input_size, no_of_filters/outputs/feature maps, kernel_size, slide no of times)\n",
        "conv1 = nn.Conv2d(3,6,3,1)\n",
        "conv2 = nn.Conv2d(6,16,3,1)\n",
        "# conv3 = nn.Conv2d(16,16,5,1)\n",
        "# conv4 = nn.Conv2d(16,26,5,1)"
      ],
      "metadata": {
        "id": "PCWlmMH10tx5"
      },
      "execution_count": null,
      "outputs": []
    },
    {
      "cell_type": "code",
      "source": [
        "for i, (X_Train, y_train) in enumerate(train_data): #assigns it to the variables X_Train and y_train, and then exits the loop\n",
        "  break"
      ],
      "metadata": {
        "id": "34ZjBH6y1Cxe"
      },
      "execution_count": null,
      "outputs": []
    },
    {
      "cell_type": "code",
      "source": [
        "X_Train.shape"
      ],
      "metadata": {
        "colab": {
          "base_uri": "https://localhost:8080/"
        },
        "id": "5O0yht9T1HxH",
        "outputId": "a0537850-3cc5-4186-e97c-ba425dcbf721"
      },
      "execution_count": null,
      "outputs": [
        {
          "output_type": "execute_result",
          "data": {
            "text/plain": [
              "torch.Size([3, 32, 32])"
            ]
          },
          "metadata": {},
          "execution_count": 50
        }
      ]
    },
    {
      "cell_type": "code",
      "source": [
        "x = X_Train.view(1,3,32,32)"
      ],
      "metadata": {
        "id": "bkLjim1p1JhX"
      },
      "execution_count": null,
      "outputs": []
    },
    {
      "cell_type": "code",
      "source": [
        "# Perform our 1st convolution\n",
        "x = F.relu(conv1(x))"
      ],
      "metadata": {
        "id": "vI3fhu_R1S_5"
      },
      "execution_count": null,
      "outputs": []
    },
    {
      "cell_type": "code",
      "source": [
        "x"
      ],
      "metadata": {
        "colab": {
          "base_uri": "https://localhost:8080/"
        },
        "id": "jikGsMjp13S6",
        "outputId": "ba1a605a-009b-4cbf-d1aa-9f0b397f8e1b"
      },
      "execution_count": null,
      "outputs": [
        {
          "output_type": "execute_result",
          "data": {
            "text/plain": [
              "tensor([[[[0.1783, 0.1783, 0.1783,  ..., 0.1783, 0.1783, 0.1783],\n",
              "          [0.1783, 0.1783, 0.1783,  ..., 0.1783, 0.1783, 0.1783],\n",
              "          [0.1783, 0.1783, 0.1783,  ..., 0.1783, 0.1783, 0.1783],\n",
              "          ...,\n",
              "          [0.1783, 0.1783, 0.1783,  ..., 0.1783, 0.1783, 0.1783],\n",
              "          [0.1783, 0.1783, 0.1783,  ..., 0.1783, 0.1783, 0.1783],\n",
              "          [0.1783, 0.1783, 0.1783,  ..., 0.1783, 0.1783, 0.1783]],\n",
              "\n",
              "         [[0.5904, 0.5904, 0.5904,  ..., 0.5904, 0.5904, 0.5904],\n",
              "          [0.5904, 0.5904, 0.5904,  ..., 0.5904, 0.5904, 0.5904],\n",
              "          [0.5904, 0.5904, 0.5904,  ..., 0.5904, 0.5904, 0.5904],\n",
              "          ...,\n",
              "          [0.5904, 0.5904, 0.5904,  ..., 0.5904, 0.5904, 0.5904],\n",
              "          [0.5904, 0.5904, 0.5904,  ..., 0.5904, 0.5904, 0.5904],\n",
              "          [0.5904, 0.5904, 0.5904,  ..., 0.5904, 0.5904, 0.5904]],\n",
              "\n",
              "         [[0.7540, 0.7540, 0.7540,  ..., 0.7540, 0.7540, 0.7540],\n",
              "          [0.7540, 0.7540, 0.7540,  ..., 0.7540, 0.7540, 0.7540],\n",
              "          [0.7540, 0.7540, 0.7540,  ..., 0.7540, 0.7540, 0.7540],\n",
              "          ...,\n",
              "          [0.7540, 0.7540, 0.7540,  ..., 0.7540, 0.7540, 0.7540],\n",
              "          [0.7540, 0.7540, 0.7540,  ..., 0.7540, 0.7540, 0.7540],\n",
              "          [0.7540, 0.7540, 0.7540,  ..., 0.7540, 0.7540, 0.7540]],\n",
              "\n",
              "         [[0.6262, 0.6262, 0.6262,  ..., 0.6262, 0.6262, 0.6262],\n",
              "          [0.6262, 0.6262, 0.6262,  ..., 0.6262, 0.6262, 0.6262],\n",
              "          [0.6262, 0.6262, 0.6262,  ..., 0.6262, 0.6262, 0.6262],\n",
              "          ...,\n",
              "          [0.6262, 0.6262, 0.6262,  ..., 0.6262, 0.6262, 0.6262],\n",
              "          [0.6262, 0.6262, 0.6262,  ..., 0.6262, 0.6262, 0.6262],\n",
              "          [0.6262, 0.6262, 0.6262,  ..., 0.6262, 0.6262, 0.6262]],\n",
              "\n",
              "         [[0.0000, 0.0000, 0.0000,  ..., 0.0000, 0.0000, 0.0000],\n",
              "          [0.0000, 0.0000, 0.0000,  ..., 0.0000, 0.0000, 0.0000],\n",
              "          [0.0000, 0.0000, 0.0000,  ..., 0.0000, 0.0000, 0.0000],\n",
              "          ...,\n",
              "          [0.0000, 0.0000, 0.0000,  ..., 0.0000, 0.0000, 0.0000],\n",
              "          [0.0000, 0.0000, 0.0000,  ..., 0.0000, 0.0000, 0.0000],\n",
              "          [0.0000, 0.0000, 0.0000,  ..., 0.0000, 0.0000, 0.0000]],\n",
              "\n",
              "         [[0.4545, 0.4545, 0.4545,  ..., 0.4545, 0.4545, 0.4545],\n",
              "          [0.4545, 0.4545, 0.4545,  ..., 0.4545, 0.4545, 0.4545],\n",
              "          [0.4545, 0.4545, 0.4545,  ..., 0.4545, 0.4545, 0.4545],\n",
              "          ...,\n",
              "          [0.4545, 0.4545, 0.4545,  ..., 0.4545, 0.4545, 0.4545],\n",
              "          [0.4545, 0.4545, 0.4545,  ..., 0.4545, 0.4545, 0.4545],\n",
              "          [0.4545, 0.4545, 0.4545,  ..., 0.4545, 0.4545, 0.4545]]]],\n",
              "       grad_fn=<ReluBackward0>)"
            ]
          },
          "metadata": {},
          "execution_count": 54
        }
      ]
    },
    {
      "cell_type": "code",
      "source": [
        "x.shape"
      ],
      "metadata": {
        "colab": {
          "base_uri": "https://localhost:8080/"
        },
        "id": "HFI8eVzI15Fh",
        "outputId": "02c537a4-643a-4321-be7c-284be250aecb"
      },
      "execution_count": null,
      "outputs": [
        {
          "output_type": "execute_result",
          "data": {
            "text/plain": [
              "torch.Size([1, 6, 30, 30])"
            ]
          },
          "metadata": {},
          "execution_count": 55
        }
      ]
    },
    {
      "cell_type": "code",
      "source": [
        "# pass through the pooling layer\n",
        "x = F.max_pool2d(x,2,2) #kernel size = 2, stride = 2"
      ],
      "metadata": {
        "id": "hpHcadVm19af"
      },
      "execution_count": null,
      "outputs": []
    },
    {
      "cell_type": "code",
      "source": [
        "x.shape"
      ],
      "metadata": {
        "colab": {
          "base_uri": "https://localhost:8080/"
        },
        "id": "hPuvC_St2DsR",
        "outputId": "4b02759e-92a5-4810-efff-d41348bdd277"
      },
      "execution_count": null,
      "outputs": [
        {
          "output_type": "execute_result",
          "data": {
            "text/plain": [
              "torch.Size([1, 6, 15, 15])"
            ]
          },
          "metadata": {},
          "execution_count": 57
        }
      ]
    },
    {
      "cell_type": "code",
      "source": [
        "x = F.relu(conv2(x))"
      ],
      "metadata": {
        "id": "6Hni2JQg6K5F"
      },
      "execution_count": null,
      "outputs": []
    },
    {
      "cell_type": "code",
      "source": [
        "x.shape"
      ],
      "metadata": {
        "colab": {
          "base_uri": "https://localhost:8080/"
        },
        "id": "m-uFpX1A6Q_G",
        "outputId": "777d4068-de40-4464-dbef-b1a48ec992b2"
      },
      "execution_count": null,
      "outputs": [
        {
          "output_type": "execute_result",
          "data": {
            "text/plain": [
              "torch.Size([1, 16, 13, 13])"
            ]
          },
          "metadata": {},
          "execution_count": 59
        }
      ]
    },
    {
      "cell_type": "code",
      "source": [
        "x = F.max_pool2d(x,2,2)"
      ],
      "metadata": {
        "id": "xHrx0FD36Vek"
      },
      "execution_count": null,
      "outputs": []
    },
    {
      "cell_type": "code",
      "source": [
        "x.shape"
      ],
      "metadata": {
        "colab": {
          "base_uri": "https://localhost:8080/"
        },
        "id": "GvYCDoy86c_X",
        "outputId": "7a6dda39-4d87-4648-c194-0422e6dc88da"
      },
      "execution_count": null,
      "outputs": [
        {
          "output_type": "execute_result",
          "data": {
            "text/plain": [
              "torch.Size([1, 16, 6, 6])"
            ]
          },
          "metadata": {},
          "execution_count": 61
        }
      ]
    },
    {
      "cell_type": "code",
      "source": [
        "# x = F.relu(conv3(x))"
      ],
      "metadata": {
        "id": "FhPDKA8g_ZUW"
      },
      "execution_count": null,
      "outputs": []
    },
    {
      "cell_type": "code",
      "source": [
        "# x.shape"
      ],
      "metadata": {
        "id": "xWcM6h5e_2IU"
      },
      "execution_count": null,
      "outputs": []
    },
    {
      "cell_type": "code",
      "source": [
        "# x = F.max_pool2d(x,2,2)"
      ],
      "metadata": {
        "id": "-YVKnrmG_8fP"
      },
      "execution_count": null,
      "outputs": []
    },
    {
      "cell_type": "code",
      "source": [
        "# x.shape"
      ],
      "metadata": {
        "id": "hhJuMdS__-Qc"
      },
      "execution_count": null,
      "outputs": []
    },
    {
      "cell_type": "code",
      "source": [
        "# x = F.relu(conv4(x))"
      ],
      "metadata": {
        "id": "2H3aTRqgNj6L"
      },
      "execution_count": null,
      "outputs": []
    },
    {
      "cell_type": "code",
      "source": [
        "# x.shape"
      ],
      "metadata": {
        "id": "KfhF4INyN1Es"
      },
      "execution_count": null,
      "outputs": []
    },
    {
      "cell_type": "code",
      "source": [
        "# x = F.max_pool2d(x,2,2)"
      ],
      "metadata": {
        "id": "tAseJwGWN6uH"
      },
      "execution_count": null,
      "outputs": []
    },
    {
      "cell_type": "code",
      "source": [
        "# x.shape"
      ],
      "metadata": {
        "id": "3fP__NtwOBHd"
      },
      "execution_count": null,
      "outputs": []
    },
    {
      "cell_type": "code",
      "source": [
        "# Model class\n",
        "class ConvolutionalNetwork(nn.Module):\n",
        "  def __init__(self):\n",
        "    super().__init__()\n",
        "    self.conv1 = nn.Conv2d(3,6,3,1)\n",
        "    self.conv2 = nn.Conv2d(6,16,3,1)\n",
        "    # self.conv3 = nn.Conv2d(16,16,5,1)\n",
        "    # self.conv4 = nn.Conv2d(16,26,5,1)\n",
        "\n",
        "    # Fully connected layer\n",
        "    self.fc1 = nn.Linear(16*6*6, 120) # Flatten to 120 neurons (arbitrary value)\n",
        "    self.fc2 = nn.Linear(120, 84)\n",
        "    self.fc3 = nn.Linear(84, 14) # 14 because 14 classes\n",
        "\n",
        "  def forward(self, X):\n",
        "    X = F.relu(self.conv1(X))\n",
        "    X = F.max_pool2d(X,2,2) # 2x2 kernel and stride=2\n",
        "    # when we pool we are taking data away\n",
        "\n",
        "    # 2nd Pass\n",
        "    X = F.relu(self.conv2(X))\n",
        "    X = F.max_pool2d(X,2,2) # 2x2 kernel and stride=2\n",
        "\n",
        "    # 2nd Pass\n",
        "    # X = F.relu(self.conv3(X))\n",
        "    # X = F.max_pool2d(X,2,2) # 2x2 kernel and stride=2\n",
        "\n",
        "    # Re-View to flatten it out\n",
        "    X = X.view(-1, 16*6*6) # -1 so that we can vary the batch size\n",
        "\n",
        "    # Fully Connected Layers\n",
        "    X = F.relu(self.fc1(X))\n",
        "    X = F.relu(self.fc2(X))\n",
        "    X = self.fc3(X)\n",
        "\n",
        "    return F.log_softmax(X, dim=1)"
      ],
      "metadata": {
        "id": "nf527sRm2G0J"
      },
      "execution_count": null,
      "outputs": []
    },
    {
      "cell_type": "code",
      "source": [
        "# Create an instance of our Model\n",
        "torch.manual_seed(41)\n",
        "model = ConvolutionalNetwork()\n",
        "model"
      ],
      "metadata": {
        "colab": {
          "base_uri": "https://localhost:8080/"
        },
        "id": "Pq3xm0Em43xN",
        "outputId": "a7e3a0e6-c879-414b-a252-37d6c8afdfb2"
      },
      "execution_count": null,
      "outputs": [
        {
          "output_type": "execute_result",
          "data": {
            "text/plain": [
              "ConvolutionalNetwork(\n",
              "  (conv1): Conv2d(3, 6, kernel_size=(3, 3), stride=(1, 1))\n",
              "  (conv2): Conv2d(6, 16, kernel_size=(3, 3), stride=(1, 1))\n",
              "  (fc1): Linear(in_features=576, out_features=120, bias=True)\n",
              "  (fc2): Linear(in_features=120, out_features=84, bias=True)\n",
              "  (fc3): Linear(in_features=84, out_features=14, bias=True)\n",
              ")"
            ]
          },
          "metadata": {},
          "execution_count": 63
        }
      ]
    },
    {
      "cell_type": "code",
      "source": [
        "# Loss function Optimizer\n",
        "criterion = nn.CrossEntropyLoss()\n",
        "optimizer = torch.optim.Adam(model.parameters(), lr=0.001)"
      ],
      "metadata": {
        "id": "_SRafdYA48xc"
      },
      "execution_count": null,
      "outputs": []
    },
    {
      "cell_type": "code",
      "source": [
        "import time\n",
        "start_time = time.time()\n",
        "\n",
        " # Create some variables for tracking\n",
        "epochs = 5\n",
        "train_losses = []\n",
        "test_losses = []\n",
        "train_correct = []\n",
        "test_correct = []\n",
        "\n",
        " # For loop of epochs\n",
        "for i in range(epochs):\n",
        "  trn_corr = 0\n",
        "  tst_corr = 0\n",
        "\n",
        "  # Train\n",
        "  for b,(X_train, y_train) in enumerate(train_loader):\n",
        "    b+=1 # start our batches at 1\n",
        "    y_pred = model(X_train) # get predicted values from the training set. Not flattened. It is 2d\n",
        "    loss = criterion(y_pred,y_train)\n",
        "\n",
        "    predicted = torch.max(y_pred.data,1)[1] # add up the number of correct predictions. Indexed off the 1st point\n",
        "    batch_corr = (predicted == y_train).sum() # how many we got correct from this batch\n",
        "    trn_corr += batch_corr\n",
        "\n",
        "    #update parameters\n",
        "    optimizer.zero_grad()\n",
        "    loss.backward()\n",
        "    optimizer.step()\n",
        "\n",
        "    # print out results\n",
        "    if b%100 == 0:\n",
        "      print(f'Epoch: {i} Batch: {b} Loss: {loss.item()}')\n",
        "\n",
        "  train_losses.append(loss.detach().numpy())\n",
        "  train_correct.append(trn_corr.detach().numpy())\n",
        "\n",
        "  # Test\n",
        "  with torch.no_grad(): # No gradient so that we dont update our weights and biases with test data\n",
        "    for b,(X_test, y_test) in enumerate(test_loader):\n",
        "      y_val = model(X_test)\n",
        "      predicted = torch.max(y_val.data, 1)[1]\n",
        "      tst_corr += (predicted == y_test).sum() # T=1 F=0 and do sum\n",
        "\n",
        "\n",
        "  loss = criterion(y_val,y_test)\n",
        "  test_losses.append(loss.detach().numpy())\n",
        "  test_correct.append(tst_corr.detach().numpy())\n",
        "\n",
        "\n",
        "current_time = time.time()\n",
        "total = current_time - start_time\n",
        "print(f'Training Took: {total/60} minutes!!')"
      ],
      "metadata": {
        "colab": {
          "base_uri": "https://localhost:8080/"
        },
        "id": "MqnKIiu45BB0",
        "outputId": "e6f5abd0-ecb6-402c-cde4-2bbf38675203"
      },
      "execution_count": null,
      "outputs": [
        {
          "output_type": "stream",
          "name": "stdout",
          "text": [
            "Epoch: 0 Batch: 100 Loss: 2.7335410118103027\n",
            "Epoch: 0 Batch: 200 Loss: 2.308000326156616\n",
            "Epoch: 1 Batch: 100 Loss: 2.4610650539398193\n",
            "Epoch: 1 Batch: 200 Loss: 2.3763959407806396\n",
            "Epoch: 2 Batch: 100 Loss: 2.6877119541168213\n",
            "Epoch: 2 Batch: 200 Loss: 2.1846349239349365\n",
            "Epoch: 3 Batch: 100 Loss: 2.746981143951416\n",
            "Epoch: 3 Batch: 200 Loss: 2.447472095489502\n",
            "Epoch: 4 Batch: 100 Loss: 2.1487486362457275\n",
            "Epoch: 4 Batch: 200 Loss: 2.2789838314056396\n",
            "Training Took: 0.47914302349090576 minutes!!\n"
          ]
        }
      ]
    },
    {
      "cell_type": "code",
      "source": [
        "plt.plot(train_losses, label=\"Training Loss\")\n",
        "plt.plot(test_losses, label=\"Test Loss\")\n",
        "plt.title(\"Loss at Epoch\")\n",
        "plt.legend()"
      ],
      "metadata": {
        "colab": {
          "base_uri": "https://localhost:8080/",
          "height": 470
        },
        "id": "9VPlMw4v5fpe",
        "outputId": "427eafaa-b5b8-4fb9-89c4-a84f645f0943"
      },
      "execution_count": null,
      "outputs": [
        {
          "output_type": "execute_result",
          "data": {
            "text/plain": [
              "<matplotlib.legend.Legend at 0x7e5006850ee0>"
            ]
          },
          "metadata": {},
          "execution_count": 66
        },
        {
          "output_type": "display_data",
          "data": {
            "text/plain": [
              "<Figure size 640x480 with 1 Axes>"
            ],
            "image/png": "[encoded data removed]"
          },
          "metadata": {}
        }
      ]
    },
    {
      "cell_type": "code",
      "source": [
        "# graph the accuracy at the end of each epoch\n",
        "plt.plot([t/600 for t in train_correct], label=\"Training Accuracy\")\n",
        "plt.plot([t/100 for t in test_correct], label=\"Test Accuracy\")\n",
        "plt.title(\"Accuracy at the end of each epoch\")\n",
        "plt.legend()"
      ],
      "metadata": {
        "colab": {
          "base_uri": "https://localhost:8080/",
          "height": 470
        },
        "id": "7yD6S-xI8whK",
        "outputId": "60040986-9b49-4ff5-9999-3d05eb5f4229"
      },
      "execution_count": null,
      "outputs": [
        {
          "output_type": "execute_result",
          "data": {
            "text/plain": [
              "<matplotlib.legend.Legend at 0x7e50068518a0>"
            ]
          },
          "metadata": {},
          "execution_count": 67
        },
        {
          "output_type": "display_data",
          "data": {
            "text/plain": [
              "<Figure size 640x480 with 1 Axes>"
            ],
            "image/png": "[encoded data removed]"
          },
          "metadata": {}
        }
      ]
    },
    {
      "cell_type": "code",
      "source": [
        "test_load_everything = DataLoader(test_data, batch_size=10000, shuffle=False)"
      ],
      "metadata": {
        "id": "DgCvLmzc8zuZ"
      },
      "execution_count": null,
      "outputs": []
    },
    {
      "cell_type": "code",
      "source": [
        "with torch.no_grad():\n",
        "  correct = 0\n",
        "  for X_test, y_test in test_load_everything:\n",
        "    y_val = model(X_test)\n",
        "    predicted = torch.max(y_val,1)[1]\n",
        "    correct += (predicted == y_test).sum()"
      ],
      "metadata": {
        "id": "XeSOD6Go83bz"
      },
      "execution_count": null,
      "outputs": []
    },
    {
      "cell_type": "code",
      "source": [
        "# Test for correct\n",
        "(correct.item()/len(test_data)) * 100"
      ],
      "metadata": {
        "colab": {
          "base_uri": "https://localhost:8080/"
        },
        "id": "Sa-oO5lw85Wu",
        "outputId": "565e464e-fdcc-472b-d04b-2df66fa14c4c"
      },
      "execution_count": null,
      "outputs": [
        {
          "output_type": "execute_result",
          "data": {
            "text/plain": [
              "25.94268476621418"
            ]
          },
          "metadata": {},
          "execution_count": 70
        }
      ]
    },
    {
      "cell_type": "code",
      "source": [
        "test_data[100]"
      ],
      "metadata": {
        "colab": {
          "base_uri": "https://localhost:8080/"
        },
        "id": "11eUVOCZ8-yX",
        "outputId": "9829eeb6-0b43-4d99-83b2-287ffd1807b4"
      },
      "execution_count": null,
      "outputs": [
        {
          "output_type": "execute_result",
          "data": {
            "text/plain": [
              "(tensor([[[1., 1., 1.,  ..., 1., 1., 1.],\n",
              "          [1., 1., 1.,  ..., 1., 1., 1.],\n",
              "          [1., 1., 1.,  ..., 1., 1., 1.],\n",
              "          ...,\n",
              "          [1., 1., 1.,  ..., 1., 1., 1.],\n",
              "          [1., 1., 1.,  ..., 1., 1., 1.],\n",
              "          [1., 1., 1.,  ..., 1., 1., 1.]],\n",
              " \n",
              "         [[1., 1., 1.,  ..., 1., 1., 1.],\n",
              "          [1., 1., 1.,  ..., 1., 1., 1.],\n",
              "          [1., 1., 1.,  ..., 1., 1., 1.],\n",
              "          ...,\n",
              "          [1., 1., 1.,  ..., 1., 1., 1.],\n",
              "          [1., 1., 1.,  ..., 1., 1., 1.],\n",
              "          [1., 1., 1.,  ..., 1., 1., 1.]],\n",
              " \n",
              "         [[1., 1., 1.,  ..., 1., 1., 1.],\n",
              "          [1., 1., 1.,  ..., 1., 1., 1.],\n",
              "          [1., 1., 1.,  ..., 1., 1., 1.],\n",
              "          ...,\n",
              "          [1., 1., 1.,  ..., 1., 1., 1.],\n",
              "          [1., 1., 1.,  ..., 1., 1., 1.],\n",
              "          [1., 1., 1.,  ..., 1., 1., 1.]]]),\n",
              " 1)"
            ]
          },
          "metadata": {},
          "execution_count": 44
        }
      ]
    },
    {
      "cell_type": "code",
      "source": [
        "test_data[100][0]"
      ],
      "metadata": {
        "colab": {
          "base_uri": "https://localhost:8080/"
        },
        "id": "R8_tirOg9u-j",
        "outputId": "4752d7b5-b5f0-4630-8a4a-79ffa5918e2c"
      },
      "execution_count": null,
      "outputs": [
        {
          "output_type": "execute_result",
          "data": {
            "text/plain": [
              "tensor([[[1., 1., 1.,  ..., 1., 1., 1.],\n",
              "         [1., 1., 1.,  ..., 1., 1., 1.],\n",
              "         [1., 1., 1.,  ..., 1., 1., 1.],\n",
              "         ...,\n",
              "         [1., 1., 1.,  ..., 1., 1., 1.],\n",
              "         [1., 1., 1.,  ..., 1., 1., 1.],\n",
              "         [1., 1., 1.,  ..., 1., 1., 1.]],\n",
              "\n",
              "        [[1., 1., 1.,  ..., 1., 1., 1.],\n",
              "         [1., 1., 1.,  ..., 1., 1., 1.],\n",
              "         [1., 1., 1.,  ..., 1., 1., 1.],\n",
              "         ...,\n",
              "         [1., 1., 1.,  ..., 1., 1., 1.],\n",
              "         [1., 1., 1.,  ..., 1., 1., 1.],\n",
              "         [1., 1., 1.,  ..., 1., 1., 1.]],\n",
              "\n",
              "        [[1., 1., 1.,  ..., 1., 1., 1.],\n",
              "         [1., 1., 1.,  ..., 1., 1., 1.],\n",
              "         [1., 1., 1.,  ..., 1., 1., 1.],\n",
              "         ...,\n",
              "         [1., 1., 1.,  ..., 1., 1., 1.],\n",
              "         [1., 1., 1.,  ..., 1., 1., 1.],\n",
              "         [1., 1., 1.,  ..., 1., 1., 1.]]])"
            ]
          },
          "metadata": {},
          "execution_count": 45
        }
      ]
    },
    {
      "cell_type": "code",
      "source": [],
      "metadata": {
        "id": "IJ2XxGil93Vh"
      },
      "execution_count": null,
      "outputs": []
    }
  ]
}